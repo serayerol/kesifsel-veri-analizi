{
 "cells": [
  {
   "cell_type": "markdown",
   "metadata": {},
   "source": [
    "## Bootcamp | Project 4.4 | Veri Temizligi | Asiri Degerler"
   ]
  },
  {
   "cell_type": "code",
   "execution_count": 1,
   "metadata": {},
   "outputs": [],
   "source": [
    "import numpy as np\n",
    "import pandas as pd\n",
    "import array as arr\n",
    "import matplotlib.pyplot as plt\n",
    "import warnings\n",
    "warnings.filterwarnings('ignore')\n",
    "import math\n",
    "from scipy.stats import norm\n",
    "import seaborn as sns\n",
    "sns.set()"
   ]
  },
  {
   "cell_type": "code",
   "execution_count": 2,
   "metadata": {},
   "outputs": [
    {
     "name": "stdout",
     "output_type": "stream",
     "text": [
      "<class 'pandas.core.frame.DataFrame'>\n",
      "Index: 1715 entries, 1992_ALABAMA to 2019_WYOMING\n",
      "Data columns (total 24 columns):\n",
      "STATE                           1715 non-null object\n",
      "YEAR                            1715 non-null int64\n",
      "ENROLL                          1224 non-null float64\n",
      "TOTAL_REVENUE                   1275 non-null float64\n",
      "FEDERAL_REVENUE                 1275 non-null float64\n",
      "STATE_REVENUE                   1275 non-null float64\n",
      "LOCAL_REVENUE                   1275 non-null float64\n",
      "TOTAL_EXPENDITURE               1275 non-null float64\n",
      "INSTRUCTION_EXPENDITURE         1275 non-null float64\n",
      "SUPPORT_SERVICES_EXPENDITURE    1275 non-null float64\n",
      "OTHER_EXPENDITURE               1224 non-null float64\n",
      "CAPITAL_OUTLAY_EXPENDITURE      1275 non-null float64\n",
      "GRADES_PK_G                     1542 non-null float64\n",
      "GRADES_KG_G                     1632 non-null float64\n",
      "GRADES_4_G                      1632 non-null float64\n",
      "GRADES_8_G                      1632 non-null float64\n",
      "GRADES_12_G                     1632 non-null float64\n",
      "GRADES_1_8_G                    1020 non-null float64\n",
      "GRADES_9_12_G                   1071 non-null float64\n",
      "GRADES_ALL_G                    1632 non-null float64\n",
      "AVG_MATH_4_SCORE                565 non-null float64\n",
      "AVG_MATH_8_SCORE                602 non-null float64\n",
      "AVG_READING_4_SCORE             650 non-null float64\n",
      "AVG_READING_8_SCORE             562 non-null float64\n",
      "dtypes: float64(22), int64(1), object(1)\n",
      "memory usage: 335.0+ KB\n"
     ]
    }
   ],
   "source": [
    "df = pd.read_csv(\"states_all.csv\", index_col=0)\n",
    "df.info()"
   ]
  },
  {
   "cell_type": "code",
   "execution_count": 3,
   "metadata": {
    "scrolled": true
   },
   "outputs": [
    {
     "data": {
      "text/html": [
       "<div>\n",
       "<style scoped>\n",
       "    .dataframe tbody tr th:only-of-type {\n",
       "        vertical-align: middle;\n",
       "    }\n",
       "\n",
       "    .dataframe tbody tr th {\n",
       "        vertical-align: top;\n",
       "    }\n",
       "\n",
       "    .dataframe thead th {\n",
       "        text-align: right;\n",
       "    }\n",
       "</style>\n",
       "<table border=\"1\" class=\"dataframe\">\n",
       "  <thead>\n",
       "    <tr style=\"text-align: right;\">\n",
       "      <th></th>\n",
       "      <th>STATE</th>\n",
       "      <th>YEAR</th>\n",
       "      <th>ENROLL</th>\n",
       "      <th>TOTAL_REVENUE</th>\n",
       "      <th>FEDERAL_REVENUE</th>\n",
       "      <th>STATE_REVENUE</th>\n",
       "      <th>LOCAL_REVENUE</th>\n",
       "      <th>TOTAL_EXPENDITURE</th>\n",
       "      <th>INSTRUCTION_EXPENDITURE</th>\n",
       "      <th>SUPPORT_SERVICES_EXPENDITURE</th>\n",
       "      <th>...</th>\n",
       "      <th>GRADES_4_G</th>\n",
       "      <th>GRADES_8_G</th>\n",
       "      <th>GRADES_12_G</th>\n",
       "      <th>GRADES_1_8_G</th>\n",
       "      <th>GRADES_9_12_G</th>\n",
       "      <th>GRADES_ALL_G</th>\n",
       "      <th>AVG_MATH_4_SCORE</th>\n",
       "      <th>AVG_MATH_8_SCORE</th>\n",
       "      <th>AVG_READING_4_SCORE</th>\n",
       "      <th>AVG_READING_8_SCORE</th>\n",
       "    </tr>\n",
       "    <tr>\n",
       "      <th>PRIMARY_KEY</th>\n",
       "      <th></th>\n",
       "      <th></th>\n",
       "      <th></th>\n",
       "      <th></th>\n",
       "      <th></th>\n",
       "      <th></th>\n",
       "      <th></th>\n",
       "      <th></th>\n",
       "      <th></th>\n",
       "      <th></th>\n",
       "      <th></th>\n",
       "      <th></th>\n",
       "      <th></th>\n",
       "      <th></th>\n",
       "      <th></th>\n",
       "      <th></th>\n",
       "      <th></th>\n",
       "      <th></th>\n",
       "      <th></th>\n",
       "      <th></th>\n",
       "      <th></th>\n",
       "    </tr>\n",
       "  </thead>\n",
       "  <tbody>\n",
       "    <tr>\n",
       "      <td>1992_ALABAMA</td>\n",
       "      <td>ALABAMA</td>\n",
       "      <td>1992</td>\n",
       "      <td>NaN</td>\n",
       "      <td>2678885.0</td>\n",
       "      <td>304177.0</td>\n",
       "      <td>1659028.0</td>\n",
       "      <td>715680.0</td>\n",
       "      <td>2653798.0</td>\n",
       "      <td>1481703.0</td>\n",
       "      <td>735036.0</td>\n",
       "      <td>...</td>\n",
       "      <td>57948.0</td>\n",
       "      <td>58025.0</td>\n",
       "      <td>41167.0</td>\n",
       "      <td>NaN</td>\n",
       "      <td>NaN</td>\n",
       "      <td>731634.0</td>\n",
       "      <td>208.0</td>\n",
       "      <td>252.0</td>\n",
       "      <td>207.0</td>\n",
       "      <td>NaN</td>\n",
       "    </tr>\n",
       "    <tr>\n",
       "      <td>1992_ALASKA</td>\n",
       "      <td>ALASKA</td>\n",
       "      <td>1992</td>\n",
       "      <td>NaN</td>\n",
       "      <td>1049591.0</td>\n",
       "      <td>106780.0</td>\n",
       "      <td>720711.0</td>\n",
       "      <td>222100.0</td>\n",
       "      <td>972488.0</td>\n",
       "      <td>498362.0</td>\n",
       "      <td>350902.0</td>\n",
       "      <td>...</td>\n",
       "      <td>9748.0</td>\n",
       "      <td>8789.0</td>\n",
       "      <td>6714.0</td>\n",
       "      <td>NaN</td>\n",
       "      <td>NaN</td>\n",
       "      <td>122487.0</td>\n",
       "      <td>NaN</td>\n",
       "      <td>NaN</td>\n",
       "      <td>NaN</td>\n",
       "      <td>NaN</td>\n",
       "    </tr>\n",
       "    <tr>\n",
       "      <td>1992_ARIZONA</td>\n",
       "      <td>ARIZONA</td>\n",
       "      <td>1992</td>\n",
       "      <td>NaN</td>\n",
       "      <td>3258079.0</td>\n",
       "      <td>297888.0</td>\n",
       "      <td>1369815.0</td>\n",
       "      <td>1590376.0</td>\n",
       "      <td>3401580.0</td>\n",
       "      <td>1435908.0</td>\n",
       "      <td>1007732.0</td>\n",
       "      <td>...</td>\n",
       "      <td>55433.0</td>\n",
       "      <td>49081.0</td>\n",
       "      <td>37410.0</td>\n",
       "      <td>NaN</td>\n",
       "      <td>NaN</td>\n",
       "      <td>673477.0</td>\n",
       "      <td>215.0</td>\n",
       "      <td>265.0</td>\n",
       "      <td>209.0</td>\n",
       "      <td>NaN</td>\n",
       "    </tr>\n",
       "  </tbody>\n",
       "</table>\n",
       "<p>3 rows × 24 columns</p>\n",
       "</div>"
      ],
      "text/plain": [
       "                STATE  YEAR  ENROLL  TOTAL_REVENUE  FEDERAL_REVENUE  \\\n",
       "PRIMARY_KEY                                                           \n",
       "1992_ALABAMA  ALABAMA  1992     NaN      2678885.0         304177.0   \n",
       "1992_ALASKA    ALASKA  1992     NaN      1049591.0         106780.0   \n",
       "1992_ARIZONA  ARIZONA  1992     NaN      3258079.0         297888.0   \n",
       "\n",
       "              STATE_REVENUE  LOCAL_REVENUE  TOTAL_EXPENDITURE  \\\n",
       "PRIMARY_KEY                                                     \n",
       "1992_ALABAMA      1659028.0       715680.0          2653798.0   \n",
       "1992_ALASKA        720711.0       222100.0           972488.0   \n",
       "1992_ARIZONA      1369815.0      1590376.0          3401580.0   \n",
       "\n",
       "              INSTRUCTION_EXPENDITURE  SUPPORT_SERVICES_EXPENDITURE  ...  \\\n",
       "PRIMARY_KEY                                                          ...   \n",
       "1992_ALABAMA                1481703.0                      735036.0  ...   \n",
       "1992_ALASKA                  498362.0                      350902.0  ...   \n",
       "1992_ARIZONA                1435908.0                     1007732.0  ...   \n",
       "\n",
       "              GRADES_4_G  GRADES_8_G  GRADES_12_G  GRADES_1_8_G  \\\n",
       "PRIMARY_KEY                                                       \n",
       "1992_ALABAMA     57948.0     58025.0      41167.0           NaN   \n",
       "1992_ALASKA       9748.0      8789.0       6714.0           NaN   \n",
       "1992_ARIZONA     55433.0     49081.0      37410.0           NaN   \n",
       "\n",
       "              GRADES_9_12_G  GRADES_ALL_G  AVG_MATH_4_SCORE  AVG_MATH_8_SCORE  \\\n",
       "PRIMARY_KEY                                                                     \n",
       "1992_ALABAMA            NaN      731634.0             208.0             252.0   \n",
       "1992_ALASKA             NaN      122487.0               NaN               NaN   \n",
       "1992_ARIZONA            NaN      673477.0             215.0             265.0   \n",
       "\n",
       "              AVG_READING_4_SCORE  AVG_READING_8_SCORE  \n",
       "PRIMARY_KEY                                             \n",
       "1992_ALABAMA                207.0                  NaN  \n",
       "1992_ALASKA                   NaN                  NaN  \n",
       "1992_ARIZONA                209.0                  NaN  \n",
       "\n",
       "[3 rows x 24 columns]"
      ]
     },
     "execution_count": 3,
     "metadata": {},
     "output_type": "execute_result"
    }
   ],
   "source": [
    "df.head(3)"
   ]
  },
  {
   "cell_type": "code",
   "execution_count": 4,
   "metadata": {
    "scrolled": true
   },
   "outputs": [
    {
     "data": {
      "text/html": [
       "<div>\n",
       "<style scoped>\n",
       "    .dataframe tbody tr th:only-of-type {\n",
       "        vertical-align: middle;\n",
       "    }\n",
       "\n",
       "    .dataframe tbody tr th {\n",
       "        vertical-align: top;\n",
       "    }\n",
       "\n",
       "    .dataframe thead th {\n",
       "        text-align: right;\n",
       "    }\n",
       "</style>\n",
       "<table border=\"1\" class=\"dataframe\">\n",
       "  <thead>\n",
       "    <tr style=\"text-align: right;\">\n",
       "      <th></th>\n",
       "      <th>STATE</th>\n",
       "      <th>YEAR</th>\n",
       "      <th>ENROLL</th>\n",
       "      <th>TOTAL_REVENUE</th>\n",
       "      <th>FEDERAL_REVENUE</th>\n",
       "      <th>STATE_REVENUE</th>\n",
       "      <th>LOCAL_REVENUE</th>\n",
       "      <th>TOTAL_EXPENDITURE</th>\n",
       "      <th>INSTRUCTION_EXPENDITURE</th>\n",
       "      <th>SUPPORT_SERVICES_EXPENDITURE</th>\n",
       "      <th>...</th>\n",
       "      <th>GRADES_4_G</th>\n",
       "      <th>GRADES_8_G</th>\n",
       "      <th>GRADES_12_G</th>\n",
       "      <th>GRADES_1_8_G</th>\n",
       "      <th>GRADES_9_12_G</th>\n",
       "      <th>GRADES_ALL_G</th>\n",
       "      <th>AVG_MATH_4_SCORE</th>\n",
       "      <th>AVG_MATH_8_SCORE</th>\n",
       "      <th>AVG_READING_4_SCORE</th>\n",
       "      <th>AVG_READING_8_SCORE</th>\n",
       "    </tr>\n",
       "    <tr>\n",
       "      <th>PRIMARY_KEY</th>\n",
       "      <th></th>\n",
       "      <th></th>\n",
       "      <th></th>\n",
       "      <th></th>\n",
       "      <th></th>\n",
       "      <th></th>\n",
       "      <th></th>\n",
       "      <th></th>\n",
       "      <th></th>\n",
       "      <th></th>\n",
       "      <th></th>\n",
       "      <th></th>\n",
       "      <th></th>\n",
       "      <th></th>\n",
       "      <th></th>\n",
       "      <th></th>\n",
       "      <th></th>\n",
       "      <th></th>\n",
       "      <th></th>\n",
       "      <th></th>\n",
       "      <th></th>\n",
       "    </tr>\n",
       "  </thead>\n",
       "  <tbody>\n",
       "    <tr>\n",
       "      <td>1992_ALABAMA</td>\n",
       "      <td>False</td>\n",
       "      <td>False</td>\n",
       "      <td>True</td>\n",
       "      <td>False</td>\n",
       "      <td>False</td>\n",
       "      <td>False</td>\n",
       "      <td>False</td>\n",
       "      <td>False</td>\n",
       "      <td>False</td>\n",
       "      <td>False</td>\n",
       "      <td>...</td>\n",
       "      <td>False</td>\n",
       "      <td>False</td>\n",
       "      <td>False</td>\n",
       "      <td>True</td>\n",
       "      <td>True</td>\n",
       "      <td>False</td>\n",
       "      <td>False</td>\n",
       "      <td>False</td>\n",
       "      <td>False</td>\n",
       "      <td>True</td>\n",
       "    </tr>\n",
       "    <tr>\n",
       "      <td>1992_ALASKA</td>\n",
       "      <td>False</td>\n",
       "      <td>False</td>\n",
       "      <td>True</td>\n",
       "      <td>False</td>\n",
       "      <td>False</td>\n",
       "      <td>False</td>\n",
       "      <td>False</td>\n",
       "      <td>False</td>\n",
       "      <td>False</td>\n",
       "      <td>False</td>\n",
       "      <td>...</td>\n",
       "      <td>False</td>\n",
       "      <td>False</td>\n",
       "      <td>False</td>\n",
       "      <td>True</td>\n",
       "      <td>True</td>\n",
       "      <td>False</td>\n",
       "      <td>True</td>\n",
       "      <td>True</td>\n",
       "      <td>True</td>\n",
       "      <td>True</td>\n",
       "    </tr>\n",
       "    <tr>\n",
       "      <td>1992_ARIZONA</td>\n",
       "      <td>False</td>\n",
       "      <td>False</td>\n",
       "      <td>True</td>\n",
       "      <td>False</td>\n",
       "      <td>False</td>\n",
       "      <td>False</td>\n",
       "      <td>False</td>\n",
       "      <td>False</td>\n",
       "      <td>False</td>\n",
       "      <td>False</td>\n",
       "      <td>...</td>\n",
       "      <td>False</td>\n",
       "      <td>False</td>\n",
       "      <td>False</td>\n",
       "      <td>True</td>\n",
       "      <td>True</td>\n",
       "      <td>False</td>\n",
       "      <td>False</td>\n",
       "      <td>False</td>\n",
       "      <td>False</td>\n",
       "      <td>True</td>\n",
       "    </tr>\n",
       "    <tr>\n",
       "      <td>1992_ARKANSAS</td>\n",
       "      <td>False</td>\n",
       "      <td>False</td>\n",
       "      <td>True</td>\n",
       "      <td>False</td>\n",
       "      <td>False</td>\n",
       "      <td>False</td>\n",
       "      <td>False</td>\n",
       "      <td>False</td>\n",
       "      <td>False</td>\n",
       "      <td>False</td>\n",
       "      <td>...</td>\n",
       "      <td>False</td>\n",
       "      <td>False</td>\n",
       "      <td>False</td>\n",
       "      <td>True</td>\n",
       "      <td>True</td>\n",
       "      <td>False</td>\n",
       "      <td>False</td>\n",
       "      <td>False</td>\n",
       "      <td>False</td>\n",
       "      <td>True</td>\n",
       "    </tr>\n",
       "    <tr>\n",
       "      <td>1992_CALIFORNIA</td>\n",
       "      <td>False</td>\n",
       "      <td>False</td>\n",
       "      <td>True</td>\n",
       "      <td>False</td>\n",
       "      <td>False</td>\n",
       "      <td>False</td>\n",
       "      <td>False</td>\n",
       "      <td>False</td>\n",
       "      <td>False</td>\n",
       "      <td>False</td>\n",
       "      <td>...</td>\n",
       "      <td>False</td>\n",
       "      <td>False</td>\n",
       "      <td>False</td>\n",
       "      <td>True</td>\n",
       "      <td>True</td>\n",
       "      <td>False</td>\n",
       "      <td>False</td>\n",
       "      <td>False</td>\n",
       "      <td>False</td>\n",
       "      <td>True</td>\n",
       "    </tr>\n",
       "  </tbody>\n",
       "</table>\n",
       "<p>5 rows × 24 columns</p>\n",
       "</div>"
      ],
      "text/plain": [
       "                 STATE   YEAR  ENROLL  TOTAL_REVENUE  FEDERAL_REVENUE  \\\n",
       "PRIMARY_KEY                                                             \n",
       "1992_ALABAMA     False  False    True          False            False   \n",
       "1992_ALASKA      False  False    True          False            False   \n",
       "1992_ARIZONA     False  False    True          False            False   \n",
       "1992_ARKANSAS    False  False    True          False            False   \n",
       "1992_CALIFORNIA  False  False    True          False            False   \n",
       "\n",
       "                 STATE_REVENUE  LOCAL_REVENUE  TOTAL_EXPENDITURE  \\\n",
       "PRIMARY_KEY                                                        \n",
       "1992_ALABAMA             False          False              False   \n",
       "1992_ALASKA              False          False              False   \n",
       "1992_ARIZONA             False          False              False   \n",
       "1992_ARKANSAS            False          False              False   \n",
       "1992_CALIFORNIA          False          False              False   \n",
       "\n",
       "                 INSTRUCTION_EXPENDITURE  SUPPORT_SERVICES_EXPENDITURE  ...  \\\n",
       "PRIMARY_KEY                                                             ...   \n",
       "1992_ALABAMA                       False                         False  ...   \n",
       "1992_ALASKA                        False                         False  ...   \n",
       "1992_ARIZONA                       False                         False  ...   \n",
       "1992_ARKANSAS                      False                         False  ...   \n",
       "1992_CALIFORNIA                    False                         False  ...   \n",
       "\n",
       "                 GRADES_4_G  GRADES_8_G  GRADES_12_G  GRADES_1_8_G  \\\n",
       "PRIMARY_KEY                                                          \n",
       "1992_ALABAMA          False       False        False          True   \n",
       "1992_ALASKA           False       False        False          True   \n",
       "1992_ARIZONA          False       False        False          True   \n",
       "1992_ARKANSAS         False       False        False          True   \n",
       "1992_CALIFORNIA       False       False        False          True   \n",
       "\n",
       "                 GRADES_9_12_G  GRADES_ALL_G  AVG_MATH_4_SCORE  \\\n",
       "PRIMARY_KEY                                                      \n",
       "1992_ALABAMA              True         False             False   \n",
       "1992_ALASKA               True         False              True   \n",
       "1992_ARIZONA              True         False             False   \n",
       "1992_ARKANSAS             True         False             False   \n",
       "1992_CALIFORNIA           True         False             False   \n",
       "\n",
       "                 AVG_MATH_8_SCORE  AVG_READING_4_SCORE  AVG_READING_8_SCORE  \n",
       "PRIMARY_KEY                                                                  \n",
       "1992_ALABAMA                False                False                 True  \n",
       "1992_ALASKA                  True                 True                 True  \n",
       "1992_ARIZONA                False                False                 True  \n",
       "1992_ARKANSAS               False                False                 True  \n",
       "1992_CALIFORNIA             False                False                 True  \n",
       "\n",
       "[5 rows x 24 columns]"
      ]
     },
     "execution_count": 4,
     "metadata": {},
     "output_type": "execute_result"
    }
   ],
   "source": [
    "df.isnull().head()\n"
   ]
  },
  {
   "cell_type": "code",
   "execution_count": 5,
   "metadata": {},
   "outputs": [
    {
     "data": {
      "text/plain": [
       "STATE                            0.000000\n",
       "YEAR                             0.000000\n",
       "ENROLL                          28.629738\n",
       "TOTAL_REVENUE                   25.655977\n",
       "FEDERAL_REVENUE                 25.655977\n",
       "STATE_REVENUE                   25.655977\n",
       "LOCAL_REVENUE                   25.655977\n",
       "TOTAL_EXPENDITURE               25.655977\n",
       "INSTRUCTION_EXPENDITURE         25.655977\n",
       "SUPPORT_SERVICES_EXPENDITURE    25.655977\n",
       "OTHER_EXPENDITURE               28.629738\n",
       "CAPITAL_OUTLAY_EXPENDITURE      25.655977\n",
       "GRADES_PK_G                     10.087464\n",
       "GRADES_KG_G                      4.839650\n",
       "GRADES_4_G                       4.839650\n",
       "GRADES_8_G                       4.839650\n",
       "GRADES_12_G                      4.839650\n",
       "GRADES_1_8_G                    40.524781\n",
       "GRADES_9_12_G                   37.551020\n",
       "GRADES_ALL_G                     4.839650\n",
       "AVG_MATH_4_SCORE                67.055394\n",
       "AVG_MATH_8_SCORE                64.897959\n",
       "AVG_READING_4_SCORE             62.099125\n",
       "AVG_READING_8_SCORE             67.230321\n",
       "dtype: float64"
      ]
     },
     "execution_count": 5,
     "metadata": {},
     "output_type": "execute_result"
    }
   ],
   "source": [
    "df.isnull().sum()*100/df.shape[0]"
   ]
  },
  {
   "cell_type": "code",
   "execution_count": 6,
   "metadata": {
    "scrolled": true
   },
   "outputs": [
    {
     "data": {
      "text/plain": [
       "STATE                             0.000000\n",
       "YEAR                              0.000000\n",
       "ENROLL                           40.114379\n",
       "TOTAL_REVENUE                     0.000000\n",
       "FEDERAL_REVENUE                  34.509804\n",
       "STATE_REVENUE                    34.509804\n",
       "LOCAL_REVENUE                    34.509804\n",
       "TOTAL_EXPENDITURE                 0.000000\n",
       "INSTRUCTION_EXPENDITURE          34.509804\n",
       "SUPPORT_SERVICES_EXPENDITURE     34.509804\n",
       "OTHER_EXPENDITURE                40.114379\n",
       "CAPITAL_OUTLAY_EXPENDITURE       34.509804\n",
       "GRADES_PK_G                      11.219196\n",
       "GRADES_KG_G                       5.085784\n",
       "GRADES_4_G                        5.085784\n",
       "GRADES_8_G                        5.085784\n",
       "GRADES_12_G                       5.085784\n",
       "GRADES_1_8_G                     68.137255\n",
       "GRADES_9_12_G                    60.130719\n",
       "GRADES_ALL_G                      5.085784\n",
       "AVG_MATH_4_SCORE                203.539823\n",
       "AVG_MATH_8_SCORE                184.883721\n",
       "AVG_READING_4_SCORE             163.846154\n",
       "AVG_READING_8_SCORE             205.160142\n",
       "dtype: float64"
      ]
     },
     "execution_count": 6,
     "metadata": {},
     "output_type": "execute_result"
    }
   ],
   "source": [
    "df.loc[:,'TOTAL_REVENUE'].fillna(df.loc[:,'TOTAL_REVENUE'].interpolate(),inplace=True) \n",
    "df.loc[:,'TOTAL_EXPENDITURE'].fillna(df.loc[:,'TOTAL_EXPENDITURE'].interpolate(),inplace=True) \n",
    "df.isnull().sum()*100/df.count()"
   ]
  },
  {
   "cell_type": "code",
   "execution_count": 7,
   "metadata": {},
   "outputs": [
    {
     "data": {
      "image/png": "[encoded data removed]",
      "text/plain": [
       "<Figure size 432x288 with 1 Axes>"
      ]
     },
     "metadata": {
      "needs_background": "light"
     },
     "output_type": "display_data"
    },
    {
     "data": {
      "image/png": "[encoded data removed]",
      "text/plain": [
       "<Figure size 432x288 with 1 Axes>"
      ]
     },
     "metadata": {
      "needs_background": "light"
     },
     "output_type": "display_data"
    }
   ],
   "source": [
    "baslik_font = {'family': 'arial', 'color': 'darkred','weight': 'bold','size': 13 }\n",
    "plt.boxplot(df[\"TOTAL_REVENUE\"], whis=1.5) \n",
    "plt.title(\"Total Revenue Boxplot Analysis\",fontdict=baslik_font)\n",
    "plt.show()\n",
    "plt.boxplot(df[\"TOTAL_EXPENDITURE\"], whis=1.5) \n",
    "plt.title(\"Total Expenditure Boxplot Analysis\",fontdict=baslik_font)\n",
    "plt.show()"
   ]
  },
  {
   "cell_type": "code",
   "execution_count": 8,
   "metadata": {},
   "outputs": [
    {
     "data": {
      "text/plain": [
       "masked_array(data=[2678885., 1049591., 3258079., ..., 2044669., 2044669.,\n",
       "                   2044669.],\n",
       "             mask=False,\n",
       "       fill_value=1e+20)"
      ]
     },
     "execution_count": 8,
     "metadata": {},
     "output_type": "execute_result"
    }
   ],
   "source": [
    "from scipy.stats.mstats import winsorize \n",
    "winsorize_revenue = winsorize(df[\"TOTAL_REVENUE\"], (0, 0.15))\n",
    "winsorize_revenue\n"
   ]
  },
  {
   "cell_type": "code",
   "execution_count": 9,
   "metadata": {},
   "outputs": [
    {
     "data": {
      "image/png": "[encoded data removed]",
      "text/plain": [
       "<Figure size 432x288 with 1 Axes>"
      ]
     },
     "metadata": {
      "needs_background": "light"
     },
     "output_type": "display_data"
    }
   ],
   "source": [
    "baslik_font = {'family': 'arial', 'color': 'darkred','weight': 'bold','size': 13 }\n",
    "plt.boxplot(winsorize_revenue)\n",
    "plt.title(\"Total Revenue Winsorize\",fontdict=baslik_font)\n",
    "plt.show()"
   ]
  },
  {
   "cell_type": "code",
   "execution_count": 10,
   "metadata": {},
   "outputs": [
    {
     "data": {
      "text/plain": [
       "masked_array(data=[2653798.,  972488., 3401580., ..., 2034229., 2034229.,\n",
       "                   2034229.],\n",
       "             mask=False,\n",
       "       fill_value=1e+20)"
      ]
     },
     "execution_count": 10,
     "metadata": {},
     "output_type": "execute_result"
    }
   ],
   "source": [
    "winsorize_expenditure = winsorize(df[\"TOTAL_EXPENDITURE\"], (0, 0.15))\n",
    "winsorize_expenditure"
   ]
  },
  {
   "cell_type": "code",
   "execution_count": 11,
   "metadata": {},
   "outputs": [
    {
     "data": {
      "image/png": "[encoded data removed]",
      "text/plain": [
       "<Figure size 432x288 with 1 Axes>"
      ]
     },
     "metadata": {
      "needs_background": "light"
     },
     "output_type": "display_data"
    },
    {
     "data": {
      "image/png": "[encoded data removed]",
      "text/plain": [
       "<Figure size 432x288 with 1 Axes>"
      ]
     },
     "metadata": {
      "needs_background": "light"
     },
     "output_type": "display_data"
    }
   ],
   "source": [
    "baslik_font = {'family': 'arial', 'color': 'darkred','weight': 'bold','size': 13 }\n",
    "plt.boxplot(winsorize_revenue) \n",
    "plt.title(\"Total Revenue Boxplot Analysis (whis=1.5)\",fontdict=baslik_font)\n",
    "plt.show()\n",
    "plt.boxplot(winsorize_expenditure) \n",
    "plt.title(\"Total Expenditure Boxplot Analysis (whis=1.5)\",fontdict=baslik_font)\n",
    "plt.show()"
   ]
  },
  {
   "cell_type": "code",
   "execution_count": 13,
   "metadata": {
    "scrolled": true
   },
   "outputs": [
    {
     "data": {
      "text/plain": [
       "PRIMARY_KEY\n",
       "1992_ALABAMA          -25087.0\n",
       "1992_ALASKA           -77103.0\n",
       "1992_ARIZONA          143501.0\n",
       "1992_ARKANSAS          31063.0\n",
       "1992_CALIFORNIA       878807.0\n",
       "                        ...   \n",
       "2019_VIRGINIA         -10440.0\n",
       "2019_WASHINGTON       -10440.0\n",
       "2019_WEST_VIRGINIA    -10440.0\n",
       "2019_WISCONSIN        -10440.0\n",
       "2019_WYOMING          -10440.0\n",
       "Name: TOTAL_DEFICIT, Length: 1715, dtype: float64"
      ]
     },
     "execution_count": 13,
     "metadata": {},
     "output_type": "execute_result"
    }
   ],
   "source": [
    "df['TOTAL_DEFICIT']=df.loc[:,'TOTAL_EXPENDITURE']-df.loc[:,'TOTAL_REVENUE'] \n",
    "df['TOTAL_DEFICIT']"
   ]
  },
  {
   "cell_type": "code",
   "execution_count": 14,
   "metadata": {
    "scrolled": true
   },
   "outputs": [
    {
     "data": {
      "image/png": "[encoded data removed]",
      "text/plain": [
       "<Figure size 432x288 with 1 Axes>"
      ]
     },
     "metadata": {
      "needs_background": "light"
     },
     "output_type": "display_data"
    }
   ],
   "source": [
    "baslik_font = {'family': 'arial', 'color': 'darkred','weight': 'bold','size': 13 }\n",
    "plt.boxplot(df['TOTAL_DEFICIT']) \n",
    "plt.title(\"Total Deficit Boxplot\",fontdict=baslik_font)\n",
    "plt.show()"
   ]
  },
  {
   "cell_type": "code",
   "execution_count": 15,
   "metadata": {},
   "outputs": [
    {
     "data": {
      "text/plain": [
       "masked_array(data=[-25087., -77103., 143501., ..., -10440., -10440.,\n",
       "                   -10440.],\n",
       "             mask=False,\n",
       "       fill_value=1e+20)"
      ]
     },
     "execution_count": 15,
     "metadata": {},
     "output_type": "execute_result"
    }
   ],
   "source": [
    "winsorize_deficit = winsorize(df[\"TOTAL_DEFICIT\"], (0, 0.15))\n",
    "winsorize_deficit"
   ]
  },
  {
   "cell_type": "code",
   "execution_count": 19,
   "metadata": {},
   "outputs": [
    {
     "data": {
      "image/png": "[encoded data removed]",
      "text/plain": [
       "<Figure size 432x288 with 1 Axes>"
      ]
     },
     "metadata": {
      "needs_background": "light"
     },
     "output_type": "display_data"
    }
   ],
   "source": [
    "winsorize_win_deficit=winsorize_expenditure-winsorize_revenue \n",
    "baslik_font = {'family': 'arial', 'color': 'darkred','weight': 'bold','size': 13 }\n",
    "plt.boxplot(winsorize_win_deficit)\n",
    "plt.title(\"Calculation of Deficit after Winsorize\")\n",
    "plt.show()"
   ]
  }
 ],
 "metadata": {
  "kernelspec": {
   "display_name": "Python 3",
   "language": "python",
   "name": "python3"
  },
  "language_info": {
   "codemirror_mode": {
    "name": "ipython",
    "version": 3
   },
   "file_extension": ".py",
   "mimetype": "text/x-python",
   "name": "python",
   "nbconvert_exporter": "python",
   "pygments_lexer": "ipython3",
   "version": "3.7.4"
  }
 },
 "nbformat": 4,
 "nbformat_minor": 2
}
