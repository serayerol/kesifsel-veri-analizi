{
 "cells": [
  {
   "cell_type": "markdown",
   "metadata": {},
   "source": [
    "## Bootcamp | Project 4.2 | Veri Temizligi 1 | Veri Türleri"
   ]
  },
  {
   "cell_type": "markdown",
   "metadata": {},
   "source": [
    "#### - Rank değişkenini kategorik olarak değerledirerek herhangi bir ilişkilendirme yapılarak sonuç elde edilmesi mümkün olmayacaktır.\n",
    "#### __________________________________________________________________________\n",
    "#### - Yaş -> Sürekli Oran (20 yaşında biri 10 yaşında birinin 2 katı yaşar.)\n",
    "#### - Maaş -> Sürekli Oran (Ayda 4500 TL kazanan biri 9000 TL kazandığında 1'e 2 oran olabiliyor + sonsuza gider)\n",
    "#### - Gelir -> Sürekli Oran (Maaş ile benzer)\n",
    "#### - Müşteri Türü -> Kategorik Nominal\n",
    "#### - Hisse Senedi Fiyatı -> Sürekli Oran "
   ]
  }
 ],
 "metadata": {
  "kernelspec": {
   "display_name": "Python 3",
   "language": "python",
   "name": "python3"
  },
  "language_info": {
   "codemirror_mode": {
    "name": "ipython",
    "version": 3
   },
   "file_extension": ".py",
   "mimetype": "text/x-python",
   "name": "python",
   "nbconvert_exporter": "python",
   "pygments_lexer": "ipython3",
   "version": "3.7.4"
  }
 },
 "nbformat": 4,
 "nbformat_minor": 2
}
