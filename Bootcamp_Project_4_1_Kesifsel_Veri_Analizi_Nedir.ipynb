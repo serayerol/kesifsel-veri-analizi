{
 "cells": [
  {
   "cell_type": "markdown",
   "metadata": {},
   "source": [
    "## Bootcamp | Project 4.1 | Kesifsel Veri Analizi Nedir?"
   ]
  },
  {
   "cell_type": "markdown",
   "metadata": {},
   "source": [
    "#### - Keşifsel veri analizinin amacı; eldeki veri ile anlamlı ilişkilendirme yapılabilmesi için veri setinin temizlenmesi,keşfedilmesi ve özellik mühendisliğinin uygulanabilirliğini arttıran bir süreçler bütünüdür. Tutarlı veriler elde edebilmek için ham veri seti üzerinde kümeyi bozan verilerin belirlenerek temizlenmesi gerekmektedir. Sorunlar tespit edilip silindikten sonra, veriler üzerinde istatistiksel temel yöntemler uygulanarak değişkenlerin birbiri üzerindeki etkileri, veri seti ile ilgili varsayımların matematiksel kontrolü sağlanabilir hale gelir. Keşifsel veri analizi aşamalarının herhangi bir noktasında veride sorun olduğu tespit edildiğinde, veri temizleme aşamasına geri dönülmeli ve yeniden temizleme işlemi gerçekleştirilmelidir. \n",
    "_____________________________________________________________________\n"
   ]
  }
 ],
 "metadata": {
  "kernelspec": {
   "display_name": "Python 3",
   "language": "python",
   "name": "python3"
  },
  "language_info": {
   "codemirror_mode": {
    "name": "ipython",
    "version": 3
   },
   "file_extension": ".py",
   "mimetype": "text/x-python",
   "name": "python",
   "nbconvert_exporter": "python",
   "pygments_lexer": "ipython3",
   "version": "3.7.4"
  }
 },
 "nbformat": 4,
 "nbformat_minor": 2
}
